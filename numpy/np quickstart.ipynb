{
 "cells": [
  {
   "cell_type": "code",
   "execution_count": 1,
   "id": "2c32ee83",
   "metadata": {},
   "outputs": [
    {
     "data": {
      "text/plain": [
       "array([[ 0,  1,  2,  3,  4],\n",
       "       [ 5,  6,  7,  8,  9],\n",
       "       [10, 11, 12, 13, 14]])"
      ]
     },
     "execution_count": 1,
     "metadata": {},
     "output_type": "execute_result"
    }
   ],
   "source": [
    "import numpy as np\n",
    "a = np.arange(15).reshape(3,5)\n",
    "a"
   ]
  },
  {
   "cell_type": "markdown",
   "id": "a859e241",
   "metadata": {},
   "source": [
    "1、example\n",
    "\n",
    "array.array = ndarray\n",
    "\n",
    "reshape\n",
    "\n",
    "shape\n",
    "\n",
    "ndim :the number of axes (dimensions) of the array.\n",
    "\n",
    "a.dtype.name :the type of the elements in the array.\n",
    "\n",
    "a.itemsize :one of type complex32 has itemsize 4 (=32/8)\n",
    "\n",
    "a.size"
   ]
  },
  {
   "cell_type": "code",
   "execution_count": 3,
   "id": "f2611b34",
   "metadata": {
    "scrolled": true
   },
   "outputs": [
    {
     "data": {
      "text/plain": [
       "(3, 5)"
      ]
     },
     "execution_count": 3,
     "metadata": {},
     "output_type": "execute_result"
    }
   ],
   "source": [
    "a.shape"
   ]
  },
  {
   "cell_type": "code",
   "execution_count": 4,
   "id": "86698b99",
   "metadata": {},
   "outputs": [
    {
     "data": {
      "text/plain": [
       "2"
      ]
     },
     "execution_count": 4,
     "metadata": {},
     "output_type": "execute_result"
    }
   ],
   "source": [
    "a.ndim"
   ]
  },
  {
   "cell_type": "code",
   "execution_count": 5,
   "id": "1e723e67",
   "metadata": {},
   "outputs": [
    {
     "data": {
      "text/plain": [
       "'int32'"
      ]
     },
     "execution_count": 5,
     "metadata": {},
     "output_type": "execute_result"
    }
   ],
   "source": [
    "a.dtype.name"
   ]
  },
  {
   "cell_type": "code",
   "execution_count": 6,
   "id": "69f4d23f",
   "metadata": {},
   "outputs": [
    {
     "data": {
      "text/plain": [
       "4"
      ]
     },
     "execution_count": 6,
     "metadata": {},
     "output_type": "execute_result"
    }
   ],
   "source": [
    "a.itemsize"
   ]
  },
  {
   "cell_type": "code",
   "execution_count": 7,
   "id": "b672d208",
   "metadata": {},
   "outputs": [
    {
     "data": {
      "text/plain": [
       "15"
      ]
     },
     "execution_count": 7,
     "metadata": {},
     "output_type": "execute_result"
    }
   ],
   "source": [
    "a.size"
   ]
  },
  {
   "cell_type": "code",
   "execution_count": 8,
   "id": "868447d7",
   "metadata": {},
   "outputs": [
    {
     "data": {
      "text/plain": [
       "numpy.ndarray"
      ]
     },
     "execution_count": 8,
     "metadata": {},
     "output_type": "execute_result"
    }
   ],
   "source": [
    "type(a)"
   ]
  },
  {
   "cell_type": "markdown",
   "id": "03536b54",
   "metadata": {},
   "source": [
    "2、ndarray creation\n",
    "\n",
    "a = np.array([2,3,4])\n",
    "\n",
    "b = np.array([1.2,3.5,4.1])\n",
    "\n",
    "c = np.array([[1,2],[3,4]], dtype=complex)\n",
    "\n",
    "np.zeros((3,4))\n",
    "\n",
    "e = np.ones((2,3,4),dtype=np.int16)\n",
    "\n",
    "np.empty((2,3))\n",
    "\n",
    "np.linspace(0,2,9)# 9 numbers from 0 to 2\n",
    "\n",
    "See also\n",
    "\n",
    "array, zeros, zeros_like, ones, ones_like, empty, empty_like, arange, linspace, numpy.random.Generator.rand, numpy.random.Generator.randn, fromfunction, fromfile"
   ]
  },
  {
   "cell_type": "code",
   "execution_count": 15,
   "id": "d682fd06",
   "metadata": {},
   "outputs": [
    {
     "data": {
      "text/plain": [
       "array([2, 3, 4])"
      ]
     },
     "execution_count": 15,
     "metadata": {},
     "output_type": "execute_result"
    }
   ],
   "source": [
    "import numpy as np\n",
    "a = np.array([2,3,4])\n",
    "a"
   ]
  },
  {
   "cell_type": "code",
   "execution_count": 19,
   "id": "7af55a60",
   "metadata": {},
   "outputs": [
    {
     "data": {
      "text/plain": [
       "numpy.ndarray"
      ]
     },
     "execution_count": 19,
     "metadata": {},
     "output_type": "execute_result"
    }
   ],
   "source": [
    "type(a)"
   ]
  },
  {
   "cell_type": "code",
   "execution_count": 20,
   "id": "7c9461ae",
   "metadata": {},
   "outputs": [
    {
     "data": {
      "text/plain": [
       "dtype('int32')"
      ]
     },
     "execution_count": 20,
     "metadata": {},
     "output_type": "execute_result"
    }
   ],
   "source": [
    "a.dtype"
   ]
  },
  {
   "cell_type": "code",
   "execution_count": 21,
   "id": "f3f79ef0",
   "metadata": {},
   "outputs": [
    {
     "data": {
      "text/plain": [
       "array([1.2, 3.5, 4.1])"
      ]
     },
     "execution_count": 21,
     "metadata": {},
     "output_type": "execute_result"
    }
   ],
   "source": [
    "import numpy as np\n",
    "b = np.array([1.2,3.5,4.1])\n",
    "b"
   ]
  },
  {
   "cell_type": "code",
   "execution_count": 23,
   "id": "1538afe6",
   "metadata": {},
   "outputs": [
    {
     "data": {
      "text/plain": [
       "dtype('float64')"
      ]
     },
     "execution_count": 23,
     "metadata": {},
     "output_type": "execute_result"
    }
   ],
   "source": [
    "b.dtype"
   ]
  },
  {
   "cell_type": "code",
   "execution_count": 26,
   "id": "53e9b516",
   "metadata": {},
   "outputs": [
    {
     "data": {
      "text/plain": [
       "array([[1.+0.j, 2.+0.j],\n",
       "       [3.+0.j, 4.+0.j]])"
      ]
     },
     "execution_count": 26,
     "metadata": {},
     "output_type": "execute_result"
    }
   ],
   "source": [
    "c = np.array([[1,2],[3,4]], dtype=complex)\n",
    "c"
   ]
  },
  {
   "cell_type": "code",
   "execution_count": 27,
   "id": "2e6a6db0",
   "metadata": {},
   "outputs": [
    {
     "data": {
      "text/plain": [
       "array([[0., 0., 0., 0.],\n",
       "       [0., 0., 0., 0.],\n",
       "       [0., 0., 0., 0.]])"
      ]
     },
     "execution_count": 27,
     "metadata": {},
     "output_type": "execute_result"
    }
   ],
   "source": [
    "np.zeros((3,4))"
   ]
  },
  {
   "cell_type": "code",
   "execution_count": 35,
   "id": "b9ff0d57",
   "metadata": {},
   "outputs": [
    {
     "data": {
      "text/plain": [
       "array([[[1, 1, 1, 1],\n",
       "        [1, 1, 1, 1],\n",
       "        [1, 1, 1, 1]],\n",
       "\n",
       "       [[1, 1, 1, 1],\n",
       "        [1, 1, 1, 1],\n",
       "        [1, 1, 1, 1]]], dtype=int16)"
      ]
     },
     "execution_count": 35,
     "metadata": {},
     "output_type": "execute_result"
    }
   ],
   "source": [
    "e = np.ones((2,3,4),dtype=np.int16)\n",
    "e"
   ]
  },
  {
   "cell_type": "code",
   "execution_count": 34,
   "id": "6c349084",
   "metadata": {},
   "outputs": [
    {
     "data": {
      "text/plain": [
       "dtype('int16')"
      ]
     },
     "execution_count": 34,
     "metadata": {},
     "output_type": "execute_result"
    }
   ],
   "source": [
    "e.dtype\n"
   ]
  },
  {
   "cell_type": "code",
   "execution_count": 33,
   "id": "aa3422af",
   "metadata": {},
   "outputs": [
    {
     "data": {
      "text/plain": [
       "24"
      ]
     },
     "execution_count": 33,
     "metadata": {},
     "output_type": "execute_result"
    }
   ],
   "source": [
    "e.size"
   ]
  },
  {
   "cell_type": "code",
   "execution_count": 36,
   "id": "f1e7dc0d",
   "metadata": {},
   "outputs": [
    {
     "data": {
      "text/plain": [
       "2"
      ]
     },
     "execution_count": 36,
     "metadata": {},
     "output_type": "execute_result"
    }
   ],
   "source": [
    "e.itemsize"
   ]
  },
  {
   "cell_type": "code",
   "execution_count": 38,
   "id": "7b0f2558",
   "metadata": {},
   "outputs": [
    {
     "data": {
      "text/plain": [
       "array([[1.39069238e-309, 1.39069238e-309, 1.39069238e-309],\n",
       "       [1.39069238e-309, 1.39069238e-309, 1.39069238e-309]])"
      ]
     },
     "execution_count": 38,
     "metadata": {},
     "output_type": "execute_result"
    }
   ],
   "source": [
    "np.empty((2,3))"
   ]
  },
  {
   "cell_type": "code",
   "execution_count": 40,
   "id": "118f1b6d",
   "metadata": {},
   "outputs": [
    {
     "data": {
      "text/plain": [
       "array([0.  , 0.25, 0.5 , 0.75, 1.  , 1.25, 1.5 , 1.75, 2.  ])"
      ]
     },
     "execution_count": 40,
     "metadata": {},
     "output_type": "execute_result"
    }
   ],
   "source": [
    "from numpy import pi\n",
    "np.linspace(0,2,9)# 9 numbers from 0 to 2"
   ]
  },
  {
   "cell_type": "code",
   "execution_count": 43,
   "id": "25c51020",
   "metadata": {},
   "outputs": [
    {
     "data": {
      "text/plain": [
       "array([0.        , 0.06346652, 0.12693304, 0.19039955, 0.25386607,\n",
       "       0.31733259, 0.38079911, 0.44426563, 0.50773215, 0.57119866,\n",
       "       0.63466518, 0.6981317 , 0.76159822, 0.82506474, 0.88853126,\n",
       "       0.95199777, 1.01546429, 1.07893081, 1.14239733, 1.20586385,\n",
       "       1.26933037, 1.33279688, 1.3962634 , 1.45972992, 1.52319644,\n",
       "       1.58666296, 1.65012947, 1.71359599, 1.77706251, 1.84052903,\n",
       "       1.90399555, 1.96746207, 2.03092858, 2.0943951 , 2.15786162,\n",
       "       2.22132814, 2.28479466, 2.34826118, 2.41172769, 2.47519421,\n",
       "       2.53866073, 2.60212725, 2.66559377, 2.72906028, 2.7925268 ,\n",
       "       2.85599332, 2.91945984, 2.98292636, 3.04639288, 3.10985939,\n",
       "       3.17332591, 3.23679243, 3.30025895, 3.36372547, 3.42719199,\n",
       "       3.4906585 , 3.55412502, 3.61759154, 3.68105806, 3.74452458,\n",
       "       3.8079911 , 3.87145761, 3.93492413, 3.99839065, 4.06185717,\n",
       "       4.12532369, 4.1887902 , 4.25225672, 4.31572324, 4.37918976,\n",
       "       4.44265628, 4.5061228 , 4.56958931, 4.63305583, 4.69652235,\n",
       "       4.75998887, 4.82345539, 4.88692191, 4.95038842, 5.01385494,\n",
       "       5.07732146, 5.14078798, 5.2042545 , 5.26772102, 5.33118753,\n",
       "       5.39465405, 5.45812057, 5.52158709, 5.58505361, 5.64852012,\n",
       "       5.71198664, 5.77545316, 5.83891968, 5.9023862 , 5.96585272,\n",
       "       6.02931923, 6.09278575, 6.15625227, 6.21971879, 6.28318531])"
      ]
     },
     "execution_count": 43,
     "metadata": {},
     "output_type": "execute_result"
    }
   ],
   "source": [
    "x = np.linspace(0,2*pi,100)\n",
    "x"
   ]
  },
  {
   "cell_type": "code",
   "execution_count": 45,
   "id": "2db9055a",
   "metadata": {},
   "outputs": [
    {
     "data": {
      "text/plain": [
       "array([ 0.00000000e+00,  6.34239197e-02,  1.26592454e-01,  1.89251244e-01,\n",
       "        2.51147987e-01,  3.12033446e-01,  3.71662456e-01,  4.29794912e-01,\n",
       "        4.86196736e-01,  5.40640817e-01,  5.92907929e-01,  6.42787610e-01,\n",
       "        6.90079011e-01,  7.34591709e-01,  7.76146464e-01,  8.14575952e-01,\n",
       "        8.49725430e-01,  8.81453363e-01,  9.09631995e-01,  9.34147860e-01,\n",
       "        9.54902241e-01,  9.71811568e-01,  9.84807753e-01,  9.93838464e-01,\n",
       "        9.98867339e-01,  9.99874128e-01,  9.96854776e-01,  9.89821442e-01,\n",
       "        9.78802446e-01,  9.63842159e-01,  9.45000819e-01,  9.22354294e-01,\n",
       "        8.95993774e-01,  8.66025404e-01,  8.32569855e-01,  7.95761841e-01,\n",
       "        7.55749574e-01,  7.12694171e-01,  6.66769001e-01,  6.18158986e-01,\n",
       "        5.67059864e-01,  5.13677392e-01,  4.58226522e-01,  4.00930535e-01,\n",
       "        3.42020143e-01,  2.81732557e-01,  2.20310533e-01,  1.58001396e-01,\n",
       "        9.50560433e-02,  3.17279335e-02, -3.17279335e-02, -9.50560433e-02,\n",
       "       -1.58001396e-01, -2.20310533e-01, -2.81732557e-01, -3.42020143e-01,\n",
       "       -4.00930535e-01, -4.58226522e-01, -5.13677392e-01, -5.67059864e-01,\n",
       "       -6.18158986e-01, -6.66769001e-01, -7.12694171e-01, -7.55749574e-01,\n",
       "       -7.95761841e-01, -8.32569855e-01, -8.66025404e-01, -8.95993774e-01,\n",
       "       -9.22354294e-01, -9.45000819e-01, -9.63842159e-01, -9.78802446e-01,\n",
       "       -9.89821442e-01, -9.96854776e-01, -9.99874128e-01, -9.98867339e-01,\n",
       "       -9.93838464e-01, -9.84807753e-01, -9.71811568e-01, -9.54902241e-01,\n",
       "       -9.34147860e-01, -9.09631995e-01, -8.81453363e-01, -8.49725430e-01,\n",
       "       -8.14575952e-01, -7.76146464e-01, -7.34591709e-01, -6.90079011e-01,\n",
       "       -6.42787610e-01, -5.92907929e-01, -5.40640817e-01, -4.86196736e-01,\n",
       "       -4.29794912e-01, -3.71662456e-01, -3.12033446e-01, -2.51147987e-01,\n",
       "       -1.89251244e-01, -1.26592454e-01, -6.34239197e-02, -2.44929360e-16])"
      ]
     },
     "execution_count": 45,
     "metadata": {},
     "output_type": "execute_result"
    }
   ],
   "source": [
    "f = np.sin(x)\n",
    "f"
   ]
  },
  {
   "cell_type": "code",
   "execution_count": 46,
   "id": "e106e073",
   "metadata": {},
   "outputs": [
    {
     "data": {
      "text/plain": [
       "array([0, 0])"
      ]
     },
     "execution_count": 46,
     "metadata": {},
     "output_type": "execute_result"
    }
   ],
   "source": [
    "np.zeros_like((2,3))"
   ]
  },
  {
   "cell_type": "code",
   "execution_count": 47,
   "id": "bcb63b1d",
   "metadata": {},
   "outputs": [
    {
     "data": {
      "text/plain": [
       "array([[0., 0., 0.],\n",
       "       [0., 0., 0.]])"
      ]
     },
     "execution_count": 47,
     "metadata": {},
     "output_type": "execute_result"
    }
   ],
   "source": [
    "np.zeros((2,3))"
   ]
  },
  {
   "cell_type": "code",
   "execution_count": 50,
   "id": "d5c9da5c",
   "metadata": {},
   "outputs": [
    {
     "data": {
      "text/plain": [
       "array([1, 1])"
      ]
     },
     "execution_count": 50,
     "metadata": {},
     "output_type": "execute_result"
    }
   ],
   "source": [
    "np.ones_like((4,5))"
   ]
  },
  {
   "cell_type": "markdown",
   "id": "cab84abe",
   "metadata": {},
   "source": [
    "3、printing array\n",
    "\n",
    "a = np.arange(6)\n",
    "print(a)\n",
    "\n",
    "b = np.arange(12).reshape(4,3)\n",
    "print(b)\n",
    "\n",
    "print(np.arange(10000))\n",
    "print(np.arange(10000).reshape(100,100))"
   ]
  },
  {
   "cell_type": "code",
   "execution_count": 52,
   "id": "57738bbb",
   "metadata": {},
   "outputs": [
    {
     "name": "stdout",
     "output_type": "stream",
     "text": [
      "[0 1 2 3 4 5]\n"
     ]
    }
   ],
   "source": [
    "a = np.arange(6)\n",
    "print(a)"
   ]
  },
  {
   "cell_type": "code",
   "execution_count": 54,
   "id": "007d1df9",
   "metadata": {},
   "outputs": [
    {
     "name": "stdout",
     "output_type": "stream",
     "text": [
      "[[ 0  1  2]\n",
      " [ 3  4  5]\n",
      " [ 6  7  8]\n",
      " [ 9 10 11]]\n"
     ]
    }
   ],
   "source": [
    "b = np.arange(12).reshape(4,3)\n",
    "print(b)"
   ]
  },
  {
   "cell_type": "code",
   "execution_count": 59,
   "id": "9b2a43d0",
   "metadata": {},
   "outputs": [
    {
     "name": "stdout",
     "output_type": "stream",
     "text": [
      "[[[ 0  1  2  3]\n",
      "  [ 4  5  6  7]\n",
      "  [ 8  9 10 11]]\n",
      "\n",
      " [[12 13 14 15]\n",
      "  [16 17 18 19]\n",
      "  [20 21 22 23]]]\n"
     ]
    }
   ],
   "source": [
    "c = np.arange(24).reshape(2,3,4)\n",
    "print(c)"
   ]
  },
  {
   "cell_type": "code",
   "execution_count": 60,
   "id": "f25ef3cf",
   "metadata": {},
   "outputs": [
    {
     "name": "stdout",
     "output_type": "stream",
     "text": [
      "[   0    1    2 ... 9997 9998 9999]\n",
      "[[   0    1    2 ...   97   98   99]\n",
      " [ 100  101  102 ...  197  198  199]\n",
      " [ 200  201  202 ...  297  298  299]\n",
      " ...\n",
      " [9700 9701 9702 ... 9797 9798 9799]\n",
      " [9800 9801 9802 ... 9897 9898 9899]\n",
      " [9900 9901 9902 ... 9997 9998 9999]]\n"
     ]
    }
   ],
   "source": [
    "print(np.arange(10000))\n",
    "print(np.arange(10000).reshape(100,100))"
   ]
  },
  {
   "cell_type": "markdown",
   "id": "9a790843",
   "metadata": {},
   "source": [
    "4、basic operation\n",
    "\n",
    "one dim: +-*/ ** sin() logic\n",
    "\n",
    "two dim: + * - @/dot()\n",
    "\n",
    "composited operation:+= *=  #modify an existing array\n",
    "\n",
    "upcasting\n",
    "\n",
    "unary operations,such as:sum,min,max..."
   ]
  },
  {
   "cell_type": "code",
   "execution_count": 62,
   "id": "b4fd0117",
   "metadata": {},
   "outputs": [
    {
     "name": "stdout",
     "output_type": "stream",
     "text": [
      "[0 1 2 3]\n",
      "[20 29 38 47]\n",
      "[0 1 4 9]\n",
      "[ 9.12945251 -9.88031624  7.4511316  -2.62374854]\n",
      "[ True  True False False]\n"
     ]
    }
   ],
   "source": [
    "a = np.array([20, 30, 40, 50])\n",
    "b = np.arange(4)\n",
    "print(b)\n",
    "print(a-b)\n",
    "print(b**2)\n",
    "print(10*np.sin(a))\n",
    "print(a<35)"
   ]
  },
  {
   "cell_type": "code",
   "execution_count": 70,
   "id": "bddc1a11",
   "metadata": {},
   "outputs": [
    {
     "name": "stdout",
     "output_type": "stream",
     "text": [
      "[[1 1]\n",
      " [0 1]]\n",
      "[[2 0]\n",
      " [3 4]]\n",
      "[[3 1]\n",
      " [3 5]]\n",
      "[[2 0]\n",
      " [0 4]]\n",
      "[[5 4]\n",
      " [3 4]]\n"
     ]
    },
    {
     "data": {
      "text/plain": [
       "array([[5, 4],\n",
       "       [3, 4]])"
      ]
     },
     "execution_count": 70,
     "metadata": {},
     "output_type": "execute_result"
    }
   ],
   "source": [
    "A = np.array([[1, 1], [0, 1]])\n",
    "B = np.array([[2, 0], [3, 4]])\n",
    "print(A)\n",
    "print(B)\n",
    "print(A+B)\n",
    "print(A*B) #elementwise product\n",
    "print(A@B) #matrix product1\n",
    "A.dot(B) #matrix product2"
   ]
  },
  {
   "cell_type": "code",
   "execution_count": 2,
   "id": "d061a2e2",
   "metadata": {},
   "outputs": [
    {
     "name": "stdout",
     "output_type": "stream",
     "text": [
      "[[0.51182162 0.9504637  0.14415961]\n",
      " [0.94864945 0.31183145 0.42332645]]\n",
      "[[3 3 3]\n",
      " [3 3 3]]\n",
      "[[3.51182162 3.9504637  3.14415961]\n",
      " [3.94864945 3.31183145 3.42332645]]\n"
     ]
    }
   ],
   "source": [
    "rg = np.random.default_rng(1) #create instance of default random number generator\n",
    "a = np.ones((2, 3), dtype=int)\n",
    "b = rg.random((2,3))\n",
    "print(b)\n",
    "a *= 3\n",
    "print(a)\n",
    "b += a\n",
    "print(b)"
   ]
  },
  {
   "cell_type": "code",
   "execution_count": 93,
   "id": "e52f56d8",
   "metadata": {},
   "outputs": [
    {
     "name": "stdout",
     "output_type": "stream",
     "text": [
      "float64\n",
      "[1.         2.57079633 4.14159265]\n",
      "float64\n",
      "[ 0.54030231+0.84147098j -0.84147098+0.54030231j -0.54030231-0.84147098j]\n",
      "complex128\n"
     ]
    },
    {
     "data": {
      "text/plain": [
       "7.38905609893065"
      ]
     },
     "execution_count": 93,
     "metadata": {},
     "output_type": "execute_result"
    }
   ],
   "source": [
    "a = np.ones(3,dtype=np.int32)\n",
    "b = np.linspace(0,pi,3)\n",
    "print(b.dtype.name)\n",
    "c = a+b \n",
    "#When operating with arrays of different types, \n",
    "#the type of the resulting array corresponds to the more general or precise one\n",
    "#(a behavior known as upcasting).\n",
    "print(c)\n",
    "print(c.dtype.name)\n",
    "d = np.exp(c * 1j)\n",
    "print(d)\n",
    "print(d.dtype)\n",
    "e = np.exp(2)\n",
    "e"
   ]
  },
  {
   "cell_type": "code",
   "execution_count": 96,
   "id": "f9769763",
   "metadata": {},
   "outputs": [
    {
     "name": "stdout",
     "output_type": "stream",
     "text": [
      "[[ 0  1  2  3]\n",
      " [ 4  5  6  7]\n",
      " [ 8  9 10 11]]\n",
      "[12 15 18 21]\n",
      "[0 4 8]\n",
      "[[ 0  1  3  6]\n",
      " [ 4  9 15 22]\n",
      " [ 8 17 27 38]]\n",
      "[[ 0  1  2  3]\n",
      " [ 4  6  8 10]\n",
      " [12 15 18 21]]\n"
     ]
    }
   ],
   "source": [
    "#unary operations,such as:sum,min,max...\n",
    "b= np.arange(12).reshape(3,4)\n",
    "print(b)\n",
    "print(b.sum(axis=0))\n",
    "print(b.min(axis=1))\n",
    "print(b.cumsum(axis=1))\n",
    "print(b.cumsum(axis=0))"
   ]
  },
  {
   "cell_type": "markdown",
   "id": "9a696874",
   "metadata": {},
   "source": [
    "5、universal functions :familiar mathematical functions such as sin, cos, and exp"
   ]
  },
  {
   "cell_type": "code",
   "execution_count": 107,
   "id": "57f316bd",
   "metadata": {},
   "outputs": [
    {
     "name": "stdout",
     "output_type": "stream",
     "text": [
      "[0 1 2]\n",
      "[1.         2.71828183 7.3890561 ]\n",
      "[0.         1.         1.41421356]\n",
      "[2. 0. 6.]\n"
     ]
    }
   ],
   "source": [
    "B = np.arange(3)\n",
    "print(B)\n",
    "print(np.exp(B))\n",
    "print(np.sqrt(B))\n",
    "C = np.array([2., -1., 4.])\n",
    "print(np.add(B, C))"
   ]
  },
  {
   "cell_type": "markdown",
   "id": "d22f773d",
   "metadata": {},
   "source": [
    "6、Indexing,Slicing and Itering\n",
    "\n",
    "one dim Indexing,Slicing\n",
    "\n",
    "Multidimensional array Indexing,Slicing,they have one index per axis\n",
    "\n",
    "choic axis ndarray[1,...]\n",
    "\n",
    "print(b.flat)#Itering  \n",
    "<numpy.flatiter object at 0x000001FED99D65B0>\n",
    "\n",
    "See also：Indexing on ndarrays, Indexing routines (reference), newaxis, ndenumerate, indices"
   ]
  },
  {
   "cell_type": "code",
   "execution_count": 115,
   "id": "fcb75f9a",
   "metadata": {},
   "outputs": [
    {
     "name": "stdout",
     "output_type": "stream",
     "text": [
      "[  0   1   8  27  64 125 216 343 512 729]\n",
      "8\n",
      "[ 8 27 64]\n",
      "[1000    1 1000   27 1000  125  216  343  512  729]\n",
      "[ 729  512  343  216  125 1000   27 1000    1 1000]\n",
      "9.999999999999998\n",
      "1.0\n",
      "9.999999999999998\n",
      "3.0\n",
      "9.999999999999998\n",
      "5.0\n",
      "5.999999999999999\n",
      "6.999999999999999\n",
      "7.999999999999999\n",
      "8.999999999999998\n"
     ]
    }
   ],
   "source": [
    "# one dim Indexing,Slicing\n",
    "a = np.arange(10)**3\n",
    "print(a)\n",
    "print(a[2])\n",
    "print(a[2:5])\n",
    "a[:6:2]=1000\n",
    "print(a)\n",
    "print(a[::-1])\n",
    "for i in a:\n",
    "    print(i**(1/3))"
   ]
  },
  {
   "cell_type": "code",
   "execution_count": 114,
   "id": "bc2d20db",
   "metadata": {},
   "outputs": [
    {
     "name": "stdout",
     "output_type": "stream",
     "text": [
      "[[ 0  1  2  3]\n",
      " [10 11 12 13]\n",
      " [20 21 22 23]\n",
      " [30 31 32 33]\n",
      " [40 41 42 43]]\n",
      "23\n",
      "[ 1 11 21 31 41]\n",
      "[ 1 11 21 31 41]\n",
      "[[10 11 12 13]\n",
      " [20 21 22 23]]\n",
      "[40 41 42 43]\n"
     ]
    }
   ],
   "source": [
    "# Multidimensional array Indexing,Slicing,they have one index per axis\n",
    "def f(x,y):\n",
    "    return 10*x+y\n",
    "b = np.fromfunction(f, (5,4), dtype=int)\n",
    "print(b)\n",
    "print(b[2,3])\n",
    "print(b[0:5, 1])\n",
    "print(b[:, 1])\n",
    "print(b[1:3, :])\n",
    "print(b[-1])"
   ]
  },
  {
   "cell_type": "code",
   "execution_count": 118,
   "id": "3739f40b",
   "metadata": {},
   "outputs": [
    {
     "name": "stdout",
     "output_type": "stream",
     "text": [
      "(2, 2, 3)\n",
      "[[100 101 102]\n",
      " [110 111 112]]\n",
      "[[  2  12]\n",
      " [102 112]]\n"
     ]
    }
   ],
   "source": [
    "#choic axis ndarray[1,...]\n",
    "c = np.array([[[0, 1, 2], \n",
    "               [10, 11, 12]],\n",
    "              [[100, 101, 102],\n",
    "               [110, 111, 112]]])\n",
    "print(c.shape)\n",
    "print(c[1,...])\n",
    "print(c[...,2])\n"
   ]
  },
  {
   "cell_type": "code",
   "execution_count": 123,
   "id": "93f0b8ed",
   "metadata": {},
   "outputs": [
    {
     "name": "stdout",
     "output_type": "stream",
     "text": [
      "[0 1 2 3]\n",
      "[10 11 12 13]\n",
      "[20 21 22 23]\n",
      "[30 31 32 33]\n",
      "[40 41 42 43]\n",
      "<numpy.flatiter object at 0x000001FED99D65B0>\n",
      "0\n",
      "1\n",
      "2\n",
      "3\n",
      "10\n",
      "11\n",
      "12\n",
      "13\n",
      "20\n",
      "21\n",
      "22\n",
      "23\n",
      "30\n",
      "31\n",
      "32\n",
      "33\n",
      "40\n",
      "41\n",
      "42\n",
      "43\n"
     ]
    }
   ],
   "source": [
    "for row in b:\n",
    "    print(row)\n",
    "\n",
    "print(b.flat)#Itering\n",
    "for e in b.flat:\n",
    "    print(e)"
   ]
  },
  {
   "cell_type": "markdown",
   "id": "233640a6",
   "metadata": {},
   "source": [
    "shape mainpulation\n",
    "\n",
    "1、changing the shape of an array\n",
    "\n",
    "a.reshape(),a.raval(),a.floor(),a.resize(),a.reshape(3,-1)\n"
   ]
  },
  {
   "cell_type": "code",
   "execution_count": 9,
   "id": "4dd0e630",
   "metadata": {},
   "outputs": [
    {
     "name": "stdout",
     "output_type": "stream",
     "text": [
      "[[2.03455241 2.6231334  7.50364673 2.80408758]\n",
      " [4.85190974 9.807372   9.61657194 7.24789941]\n",
      " [5.41226856 2.76891204 1.60652009 9.69925413]]\n",
      "[[2. 2. 7. 2.]\n",
      " [4. 9. 9. 7.]\n",
      " [5. 2. 1. 9.]]\n"
     ]
    }
   ],
   "source": [
    "a = np.array(10 * rg.random((3,4)))\n",
    "print(a)\n",
    "a = np.floor(a)# floor保留整数部分\n",
    "print(a)"
   ]
  },
  {
   "cell_type": "code",
   "execution_count": 15,
   "id": "4e539740",
   "metadata": {},
   "outputs": [
    {
     "name": "stdout",
     "output_type": "stream",
     "text": [
      "[8. 8. 6. 2. 7. 2. 8. 0. 8. 1. 3. 3.]\n",
      "[[8. 8.]\n",
      " [6. 2.]\n",
      " [7. 2.]\n",
      " [8. 0.]\n",
      " [8. 1.]\n",
      " [3. 3.]]\n",
      "[[8. 7. 8.]\n",
      " [8. 2. 1.]\n",
      " [6. 8. 3.]\n",
      " [2. 0. 3.]]\n"
     ]
    }
   ],
   "source": [
    "print(a.ravel()) #ravel returns the array, flattened\n",
    "print(a.reshape(6,2))# returns the array with a modified shape\n",
    "print(a.T) # returns the array, transposed"
   ]
  },
  {
   "cell_type": "code",
   "execution_count": 23,
   "id": "bd611a95",
   "metadata": {},
   "outputs": [
    {
     "data": {
      "text/plain": [
       "[[8.0, 8.0, 6.0, 2.0], [7.0, 2.0, 8.0, 0.0], [8.0, 1.0, 3.0, 3.0]]"
      ]
     },
     "execution_count": 23,
     "metadata": {},
     "output_type": "execute_result"
    }
   ],
   "source": [
    "list(list(i) for i in a)"
   ]
  },
  {
   "cell_type": "code",
   "execution_count": 25,
   "id": "3f64f7f2",
   "metadata": {},
   "outputs": [
    {
     "name": "stdout",
     "output_type": "stream",
     "text": [
      "[[8. 8. 6. 2. 7. 2.]\n",
      " [8. 0. 8. 1. 3. 3.]]\n"
     ]
    }
   ],
   "source": [
    "a.resize(2,6) #reshape needn't other param\n",
    "print(a)"
   ]
  },
  {
   "cell_type": "code",
   "execution_count": 10,
   "id": "79f34bd3",
   "metadata": {},
   "outputs": [
    {
     "data": {
      "text/plain": [
       "array([[2., 2., 7., 2.],\n",
       "       [4., 9., 9., 7.],\n",
       "       [5., 2., 1., 9.]])"
      ]
     },
     "execution_count": 10,
     "metadata": {},
     "output_type": "execute_result"
    }
   ],
   "source": [
    "a.reshape(3,-1) #axis marked -1 will automatically calculated"
   ]
  },
  {
   "cell_type": "markdown",
   "id": "ee92e267",
   "metadata": {},
   "source": [
    "2、a,b stacking together along different axes\n",
    "\n",
    "2-dim\n",
    "np.vstack((a,b))\n",
    "np.hstack((a,b))\n",
    "\n",
    "1-dim\n",
    "np.column_stack((a,b)) = np.column_stack((a[:,newaxies], b[:,newaxis]))\n",
    "np.row_stack((a,b)) = np.vstack((a,b)) = np.concatenate((a,b), axis=0)\n"
   ]
  },
  {
   "cell_type": "code",
   "execution_count": 27,
   "id": "db5eeed5",
   "metadata": {},
   "outputs": [
    {
     "name": "stdout",
     "output_type": "stream",
     "text": [
      "[[5. 1.]\n",
      " [6. 7.]]\n",
      "[[6. 9.]\n",
      " [0. 5.]]\n"
     ]
    }
   ],
   "source": [
    "a = np.floor(10 * rg.random((2, 2)))\n",
    "b = np.floor(10 * rg.random((2, 2)))\n",
    "\n",
    "print(a)\n",
    "print(b)"
   ]
  },
  {
   "cell_type": "code",
   "execution_count": 6,
   "id": "00653769",
   "metadata": {},
   "outputs": [
    {
     "data": {
      "text/plain": [
       "array([[7., 5.],\n",
       "       [3., 7.],\n",
       "       [3., 4.],\n",
       "       [1., 4.]])"
      ]
     },
     "execution_count": 6,
     "metadata": {},
     "output_type": "execute_result"
    }
   ],
   "source": [
    "np.vstack((a,b))"
   ]
  },
  {
   "cell_type": "code",
   "execution_count": 7,
   "id": "404e0cda",
   "metadata": {},
   "outputs": [
    {
     "data": {
      "text/plain": [
       "array([[7., 5., 3., 4.],\n",
       "       [3., 7., 1., 4.]])"
      ]
     },
     "execution_count": 7,
     "metadata": {},
     "output_type": "execute_result"
    }
   ],
   "source": [
    "np.hstack((a,b))"
   ]
  },
  {
   "cell_type": "code",
   "execution_count": 20,
   "id": "e7d514fc",
   "metadata": {},
   "outputs": [
    {
     "data": {
      "text/plain": [
       "array([[4., 3.],\n",
       "       [2., 8.]])"
      ]
     },
     "execution_count": 20,
     "metadata": {},
     "output_type": "execute_result"
    }
   ],
   "source": [
    "from numpy import newaxis\n",
    "np.column_stack((a, b))"
   ]
  },
  {
   "cell_type": "code",
   "execution_count": 15,
   "id": "525638b1",
   "metadata": {},
   "outputs": [
    {
     "data": {
      "text/plain": [
       "array([[4., 3.],\n",
       "       [2., 8.]])"
      ]
     },
     "execution_count": 15,
     "metadata": {},
     "output_type": "execute_result"
    }
   ],
   "source": [
    "a = np.array([4., 2.])\n",
    "b = np.array([3., 8.])\n",
    "np.column_stack((a,b))"
   ]
  },
  {
   "cell_type": "code",
   "execution_count": 16,
   "id": "1ba86260",
   "metadata": {},
   "outputs": [
    {
     "data": {
      "text/plain": [
       "array([4., 2., 3., 8.])"
      ]
     },
     "execution_count": 16,
     "metadata": {},
     "output_type": "execute_result"
    }
   ],
   "source": [
    "np.hstack((a, b))"
   ]
  },
  {
   "cell_type": "code",
   "execution_count": 21,
   "id": "8fa624da",
   "metadata": {},
   "outputs": [
    {
     "data": {
      "text/plain": [
       "array([[4.],\n",
       "       [2.]])"
      ]
     },
     "execution_count": 21,
     "metadata": {},
     "output_type": "execute_result"
    }
   ],
   "source": [
    "a[:, newaxis]"
   ]
  },
  {
   "cell_type": "code",
   "execution_count": 22,
   "id": "772be414",
   "metadata": {},
   "outputs": [
    {
     "data": {
      "text/plain": [
       "array([[4., 3.],\n",
       "       [2., 8.]])"
      ]
     },
     "execution_count": 22,
     "metadata": {},
     "output_type": "execute_result"
    }
   ],
   "source": [
    "np.column_stack((a[:, newaxis], b[:,newaxis]))"
   ]
  },
  {
   "cell_type": "code",
   "execution_count": 23,
   "id": "5d746a5a",
   "metadata": {},
   "outputs": [
    {
     "data": {
      "text/plain": [
       "array([[4., 3.],\n",
       "       [2., 8.]])"
      ]
     },
     "execution_count": 23,
     "metadata": {},
     "output_type": "execute_result"
    }
   ],
   "source": [
    "np.hstack((a[:, newaxis], b[:,newaxis]))"
   ]
  },
  {
   "cell_type": "code",
   "execution_count": 24,
   "id": "efd31f94",
   "metadata": {},
   "outputs": [
    {
     "data": {
      "text/plain": [
       "array([[4., 2.],\n",
       "       [3., 8.]])"
      ]
     },
     "execution_count": 24,
     "metadata": {},
     "output_type": "execute_result"
    }
   ],
   "source": [
    "np.vstack((a,b))"
   ]
  },
  {
   "cell_type": "code",
   "execution_count": 25,
   "id": "ee20e314",
   "metadata": {},
   "outputs": [
    {
     "name": "stdout",
     "output_type": "stream",
     "text": [
      "False\n",
      "True\n"
     ]
    }
   ],
   "source": [
    "print(np.column_stack is np.hstack)\n",
    "print(np.row_stack is np.vstack)"
   ]
  },
  {
   "cell_type": "code",
   "execution_count": 28,
   "id": "54c4a2af",
   "metadata": {},
   "outputs": [
    {
     "name": "stdout",
     "output_type": "stream",
     "text": [
      "[[5. 1.]\n",
      " [6. 7.]\n",
      " [6. 9.]\n",
      " [0. 5.]]\n",
      "[[5. 1. 6. 9.]\n",
      " [6. 7. 0. 5.]]\n"
     ]
    }
   ],
   "source": [
    "# concatenate allows for an optional arguments giving the number of the axis \n",
    "print(np.concatenate((a,b), axis=0))\n",
    "print(np.concatenate((a,b), axis=1))"
   ]
  },
  {
   "cell_type": "markdown",
   "id": "afbf879e",
   "metadata": {},
   "source": [
    "3、Splitting one array into several smaller ones\n",
    "np.hsplit(a,(split option1,split option2))"
   ]
  },
  {
   "cell_type": "code",
   "execution_count": 42,
   "id": "8c1fe60c",
   "metadata": {},
   "outputs": [
    {
     "data": {
      "text/plain": [
       "array([[6., 7., 8., 2., 2., 6., 8., 9., 1., 4., 8., 4.],\n",
       "       [5., 0., 6., 9., 8., 8., 6., 2., 7., 2., 8., 0.]])"
      ]
     },
     "execution_count": 42,
     "metadata": {},
     "output_type": "execute_result"
    }
   ],
   "source": [
    "a = np.floor(10*rg.random((2,12)))\n",
    "a"
   ]
  },
  {
   "cell_type": "code",
   "execution_count": 44,
   "id": "97b50793",
   "metadata": {},
   "outputs": [
    {
     "data": {
      "text/plain": [
       "[array([[6., 7., 8.],\n",
       "        [5., 0., 6.]]),\n",
       " array([[2.],\n",
       "        [9.]]),\n",
       " array([[2., 6.],\n",
       "        [8., 8.]]),\n",
       " array([[8., 9., 1., 4., 8., 4.],\n",
       "        [6., 2., 7., 2., 8., 0.]])]"
      ]
     },
     "execution_count": 44,
     "metadata": {},
     "output_type": "execute_result"
    }
   ],
   "source": [
    "np.hsplit(a,(3,4,6)) #(2,12)->(3,2,4) ;Split `a` along its horizontal axis"
   ]
  },
  {
   "cell_type": "code",
   "execution_count": 41,
   "id": "a39d5ac0",
   "metadata": {},
   "outputs": [
    {
     "name": "stdout",
     "output_type": "stream",
     "text": [
      "[array([[4., 0., 6.],\n",
      "       [6., 7., 1.]]), array([[8.],\n",
      "       [8.]]), array([[5., 2., 8., 5., 5., 7., 1., 8.],\n",
      "       [1., 0., 8., 8., 8., 4., 2., 0.]])]\n",
      "[array([[4., 0., 6., 8., 5.],\n",
      "       [6., 7., 1., 8., 1.]]), array([[2.],\n",
      "       [0.]]), array([[8., 5., 5., 7., 1., 8.],\n",
      "       [8., 8., 8., 4., 2., 0.]])]\n",
      "(12, 2)\n",
      "[array([[4., 0.],\n",
      "       [6., 8.],\n",
      "       [5., 2.],\n",
      "       [8., 5.]]), array([[5., 7.],\n",
      "       [1., 8.]]), array([[6., 7.],\n",
      "       [1., 8.],\n",
      "       [1., 0.],\n",
      "       [8., 8.],\n",
      "       [8., 4.],\n",
      "       [2., 0.]])]\n",
      "[[4. 0. 6. 8. 5. 2.]\n",
      " [8. 5. 5. 7. 1. 8.]\n",
      " [6. 7. 1. 8. 1. 0.]\n",
      " [8. 8. 8. 4. 2. 0.]]\n",
      "[array([[4., 0.],\n",
      "       [8., 5.],\n",
      "       [6., 7.],\n",
      "       [8., 8.]]), array([[6., 8., 5.],\n",
      "       [5., 7., 1.],\n",
      "       [1., 8., 1.],\n",
      "       [8., 4., 2.]]), array([[2.],\n",
      "       [8.],\n",
      "       [0.],\n",
      "       [0.]])]\n"
     ]
    }
   ],
   "source": [
    "print(np.hsplit(a,(3,4))) # Split `a` after the third and the fourth column\n",
    "print(np.hsplit(a,(5,6)))\n",
    "#vsplit splits along the vertical axis\n",
    "a.resize((12,2))\n",
    "print(a.shape)\n",
    "print(np.vsplit(a,(4,6)))\n",
    "# array_split allows one to specify along which axis to split\n",
    "a.resize((4,6))\n",
    "print(a)\n",
    "print(np.array_split(a,(2,5),axis=1))"
   ]
  },
  {
   "cell_type": "markdown",
   "id": "6d05cf8b",
   "metadata": {},
   "source": [
    "Copy and views\n",
    "\n",
    "1、 shallow copy :no copy of objects or their data \n",
    "\n",
    "b = a->b is a\n",
    "\n",
    "b=a/b = a.view() is shallow copy\n",
    "\n",
    "b changes data while a change, but b change size while a not.  \n",
    "\n",
    "2、deep copy : b = a.copy()\n",
    "\n",
    "3、useful numpy function \n",
    "\n",
    "Array Creation:\n",
    "arange, array, copy, empty, empty_like, eye, fromfile, fromfunction, identity, linspace, logspace, mgrid, ogrid, ones, ones_like, r_, zeros, zeros_like\n",
    "\n",
    "Conversions\n",
    "ndarray.astype, atleast_1d, atleast_2d, atleast_3d, mat\n",
    "\n",
    "Manipulations\n",
    "array_split, column_stack, concatenate, diagonal, dsplit, dstack, hsplit, hstack, ndarray.item, newaxis, ravel, repeat, reshape, resize, squeeze, swapaxes, take, transpose, vsplit, vstack\n",
    "\n",
    "Questions\n",
    "all, any, nonzero, where\n",
    "\n",
    "Ordering\n",
    "argmax, argmin, argsort, max, min, ptp, searchsorted, sort\n",
    "\n",
    "Operations\n",
    "choose, compress, cumprod, cumsum, inner, ndarray.fill, imag, prod, put, putmask, real, sum\n",
    "\n",
    "Basic Statistics\n",
    "cov, mean, std, var\n",
    "\n",
    "Basic Linear Algebra\n",
    "cross, dot, outer, linalg.svd, vdot\n"
   ]
  },
  {
   "cell_type": "code",
   "execution_count": 45,
   "id": "1635820e",
   "metadata": {},
   "outputs": [
    {
     "data": {
      "text/plain": [
       "True"
      ]
     },
     "execution_count": 45,
     "metadata": {},
     "output_type": "execute_result"
    }
   ],
   "source": [
    "a = np.array([[0,1,2,3],\n",
    "              [4,5,6,7],\n",
    "              [8,9,10,11]])\n",
    "b = a\n",
    "b is a"
   ]
  },
  {
   "cell_type": "code",
   "execution_count": 47,
   "id": "6cd2d00d",
   "metadata": {},
   "outputs": [
    {
     "name": "stdout",
     "output_type": "stream",
     "text": [
      "2295956191536\n",
      "None\n",
      "2295956191536\n",
      "None\n"
     ]
    }
   ],
   "source": [
    "def f(x):\n",
    "    print(id(x))\n",
    "print(f(a))\n",
    "print(f(b))"
   ]
  },
  {
   "cell_type": "code",
   "execution_count": 54,
   "id": "bd8d16d9",
   "metadata": {},
   "outputs": [
    {
     "name": "stdout",
     "output_type": "stream",
     "text": [
      "False\n",
      "True\n",
      "False\n",
      "(3, 4)\n",
      "[[   0    1    2    3]\n",
      " [1234    5    6    7]\n",
      " [   8    9   10   11]]\n"
     ]
    }
   ],
   "source": [
    "c = a.view()\n",
    "print(c is a)\n",
    "print(c.base is a)\n",
    "print(c.flags.owndata) \n",
    "c.resize((2,6)) # a's shape doesn't change\n",
    "print(a.shape)\n",
    "c[0,4] = 1234 # a's data changes\n",
    "print(a)"
   ]
  },
  {
   "cell_type": "code",
   "execution_count": 55,
   "id": "fdbbbe92",
   "metadata": {},
   "outputs": [
    {
     "name": "stdout",
     "output_type": "stream",
     "text": [
      "[[10 10]\n",
      " [10 10]\n",
      " [10 10]]\n",
      "[[   0   10   10    3]\n",
      " [1234   10   10    7]\n",
      " [   8   10   10   11]]\n"
     ]
    }
   ],
   "source": [
    "s = a[:,1:3]\n",
    "s[:] = 10\n",
    "print(s)\n",
    "print(a)"
   ]
  },
  {
   "cell_type": "code",
   "execution_count": 57,
   "id": "02890ca2",
   "metadata": {},
   "outputs": [
    {
     "name": "stdout",
     "output_type": "stream",
     "text": [
      "False\n",
      "False\n",
      "[[   0   10   10    3]\n",
      " [1234   10   10    7]\n",
      " [   8   10   10   11]]\n"
     ]
    }
   ],
   "source": [
    "d = a.copy() #a complete copy\n",
    "print(d is a)\n",
    "print(d.base is a)\n",
    "d[0, 0] = 9999\n",
    "print(a)# a's data doesn't change "
   ]
  },
  {
   "cell_type": "code",
   "execution_count": 2,
   "id": "35583943",
   "metadata": {},
   "outputs": [
    {
     "name": "stdout",
     "output_type": "stream",
     "text": [
      "(100,)\n"
     ]
    },
    {
     "ename": "NameError",
     "evalue": "name 'a' is not defined",
     "output_type": "error",
     "traceback": [
      "\u001b[1;31m---------------------------------------------------------------------------\u001b[0m",
      "\u001b[1;31mNameError\u001b[0m                                 Traceback (most recent call last)",
      "Input \u001b[1;32mIn [2]\u001b[0m, in \u001b[0;36m<module>\u001b[1;34m\u001b[0m\n\u001b[0;32m      3\u001b[0m \u001b[38;5;28;01mdel\u001b[39;00m a\n\u001b[0;32m      4\u001b[0m \u001b[38;5;28mprint\u001b[39m(b\u001b[38;5;241m.\u001b[39mshape)\n\u001b[1;32m----> 5\u001b[0m \u001b[38;5;28mprint\u001b[39m(\u001b[43ma\u001b[49m)\n",
      "\u001b[1;31mNameError\u001b[0m: name 'a' is not defined"
     ]
    }
   ],
   "source": [
    "a = np.arange(int(1e8))\n",
    "b = a[:100].copy()\n",
    "del a\n",
    "print(b.shape)\n",
    "print(a)\n",
    "# if b = a[:100], 'del a' cannot be released"
   ]
  },
  {
   "cell_type": "markdown",
   "id": "06b511c9",
   "metadata": {},
   "source": [
    "Broadcasting rules:https://numpy.org/doc/stable/user/basics.broadcasting.html#basics-broadcasting\n",
    "    1、if all inpput arrays do not have same dimensions , a\"1\" will be repeatedly prepended to shape of the samller arrays until all the arrays have the same number of dimensions.\n",
    "    ？2、The second rule of broadcasting ensures that arrays with a size of 1 along a particular dimension act as if they had the size of the array with the largest shape along that dimension. The value of the array element is assumed to be the same along that dimension for the “broadcast” array.\n",
    "    "
   ]
  },
  {
   "cell_type": "markdown",
   "id": "14c4c10e",
   "metadata": {},
   "source": [
    "Advanced indexing and index tricks\n",
    "\n",
    "\n",
    "1 、Indexing with Arrays of Indices\n",
    "\n",
    "（1）one dimension\n",
    "\n",
    "a = np.arange(12)**2\n",
    "\n",
    "i = np.array([1,1,3,8,5]) #print(a[i]) [ 1  1  9 64 25]\n",
    "\n",
    "（2）two dimension\n",
    "\n",
    "a = np.arange(12).reshape(3,4)\n",
    "\n",
    "i = np.array([[0,1],[1,2]])\n",
    "\n",
    "j = np.array([[2,1],[3,3]])\n",
    "\n",
    "print(a[i,j]) # [[ 2  5] [ 7 11]]\n",
    "\n",
    "（3) search of the maximum value\n",
    "\n",
    "values = data.max(axis=0)\n",
    "\n",
    "indices = data.argmax(axis=0)\n",
    "\n",
    "(4) use indexing with arrays as a target \n",
    "\n",
    "2、Indexing with boolean arrays\n",
    "\n",
    "(1)we explicity choose which items in the array we wangt and which one's we don't through 'a[a>4]'\n",
    "\n",
    "(2)for each dimension of array we give a 1D boolean array selectiong the slices we want: 'a[True, False, True, False]'\n",
    "Note that the length of the 1D boolean array must coincide with the length of the dimension (or axis) you want to slice. \n",
    "\n",
    "3、The ix_() function\n",
    "\n",
    "the ix_ function can be used to combine different vectors so as to obtain the result for each n-uplet.\n",
    "\n",
    "a = np.array([2, 3, 4, 5])\n",
    "b = np.array([8, 5, 4])\n",
    "c = np.array([5, 4, 6, 8, 3])\n",
    "\n",
    "ax, bx, cx = np.ix_(a, b, c)\n",
    "\n",
    "ax.shape, bx.shape, cx.shape\n",
    "#((4, 1, 1), (1, 3, 1), (1, 1, 5))\n",
    "\n",
    "4、Indexing with strings\n",
    "https://numpy.org/doc/stable/user/basics.rec.html#structured-arrays"
   ]
  },
  {
   "cell_type": "code",
   "execution_count": 62,
   "id": "f28f23b7",
   "metadata": {},
   "outputs": [
    {
     "name": "stdout",
     "output_type": "stream",
     "text": [
      "[ 1  1  9 64 25]\n",
      "[[ 9 16]\n",
      " [81 49]]\n"
     ]
    }
   ],
   "source": [
    "#1 、Indexing with Arrays of Indices\n",
    "a = np.arange(12)**2\n",
    "i = np.array([1,1,3,8,5])\n",
    "print(a[i])\n",
    "j = np.array([[3,4],[9,7]])\n",
    "print(a[j])"
   ]
  },
  {
   "cell_type": "code",
   "execution_count": 4,
   "id": "400dad55",
   "metadata": {},
   "outputs": [
    {
     "data": {
      "text/plain": [
       "array([[[  0,   0,   0],\n",
       "        [255,   0,   0],\n",
       "        [  0, 255,   0],\n",
       "        [  0,   0,   0]],\n",
       "\n",
       "       [[  0,   0,   0],\n",
       "        [  0,   0, 255],\n",
       "        [255, 255, 255],\n",
       "        [  0,   0,   0]]])"
      ]
     },
     "execution_count": 4,
     "metadata": {},
     "output_type": "execute_result"
    }
   ],
   "source": [
    "palette = np.array([[0,0,0],  #black\n",
    "                    [255,0,0], #red\n",
    "                    [0,255,0], #green\n",
    "                    [0,0,255], #blue\n",
    "                    [255,255,255]]) #white\n",
    "image = np.array([[0,1,2,0],\n",
    "                  [0,3,4,0]])\n",
    "palette[image]"
   ]
  },
  {
   "cell_type": "code",
   "execution_count": 6,
   "id": "34837ae0",
   "metadata": {},
   "outputs": [
    {
     "data": {
      "text/plain": [
       "array([[ 0,  1,  2,  3],\n",
       "       [ 4,  5,  6,  7],\n",
       "       [ 8,  9, 10, 11]])"
      ]
     },
     "execution_count": 6,
     "metadata": {},
     "output_type": "execute_result"
    }
   ],
   "source": [
    "a = np.arange(12).reshape(3,4)\n",
    "a"
   ]
  },
  {
   "cell_type": "code",
   "execution_count": 11,
   "id": "63194e2a",
   "metadata": {},
   "outputs": [
    {
     "name": "stdout",
     "output_type": "stream",
     "text": [
      "[[ 2  5]\n",
      " [ 7 11]]\n",
      "[[ 2  6]\n",
      " [ 6 10]]\n",
      "[ 2  6 10]\n",
      "[[[ 2  1]\n",
      "  [ 3  3]]\n",
      "\n",
      " [[ 6  5]\n",
      "  [ 7  7]]\n",
      "\n",
      " [[10  9]\n",
      "  [11 11]]]\n"
     ]
    }
   ],
   "source": [
    "i = np.array([[0,1],[1,2]])\n",
    "j = np.array([[2,1],[3,3]])\n",
    "\n",
    "print(a[i,j])\n",
    "print(a[i,2])\n",
    "print(a[:,2])\n",
    "print(a[:,j]) #same shape"
   ]
  },
  {
   "cell_type": "code",
   "execution_count": 14,
   "id": "d8d13c4a",
   "metadata": {},
   "outputs": [
    {
     "name": "stdout",
     "output_type": "stream",
     "text": [
      "(array([[0, 1],\n",
      "       [1, 2]]), array([[2, 1],\n",
      "       [3, 3]]))\n",
      "[[ 2  5]\n",
      " [ 7 11]]\n"
     ]
    }
   ],
   "source": [
    "l = (i,j)\n",
    "print(l)\n",
    "print(a[l])"
   ]
  },
  {
   "cell_type": "code",
   "execution_count": 16,
   "id": "672a5053",
   "metadata": {},
   "outputs": [
    {
     "name": "stdout",
     "output_type": "stream",
     "text": [
      "[[[0 1]\n",
      "  [1 2]]\n",
      "\n",
      " [[2 1]\n",
      "  [3 3]]]\n"
     ]
    },
    {
     "ename": "IndexError",
     "evalue": "index 3 is out of bounds for axis 0 with size 3",
     "output_type": "error",
     "traceback": [
      "\u001b[1;31m---------------------------------------------------------------------------\u001b[0m",
      "\u001b[1;31mIndexError\u001b[0m                                Traceback (most recent call last)",
      "Input \u001b[1;32mIn [16]\u001b[0m, in \u001b[0;36m<module>\u001b[1;34m\u001b[0m\n\u001b[0;32m      1\u001b[0m s \u001b[38;5;241m=\u001b[39m np\u001b[38;5;241m.\u001b[39marray([i,j])\n\u001b[0;32m      2\u001b[0m \u001b[38;5;28mprint\u001b[39m(s)\n\u001b[1;32m----> 3\u001b[0m \u001b[38;5;28mprint\u001b[39m(\u001b[43ma\u001b[49m\u001b[43m[\u001b[49m\u001b[43ms\u001b[49m\u001b[43m]\u001b[49m)\n",
      "\u001b[1;31mIndexError\u001b[0m: index 3 is out of bounds for axis 0 with size 3"
     ]
    }
   ],
   "source": [
    "s = np.array([i,j])\n",
    "print(s)\n",
    "print(a[s]) #the dimension of s is higher than a,if put i and j into an array."
   ]
  },
  {
   "cell_type": "code",
   "execution_count": 42,
   "id": "888f5791",
   "metadata": {},
   "outputs": [
    {
     "name": "stdout",
     "output_type": "stream",
     "text": [
      "[ 20.    51.25  82.5  113.75 145.  ]\n",
      "[[ 0.          0.84147098  0.90929743  0.14112001]\n",
      " [-0.7568025  -0.95892427 -0.2794155   0.6569866 ]\n",
      " [ 0.98935825  0.41211849 -0.54402111 -0.99999021]\n",
      " [-0.53657292  0.42016704  0.99060736  0.65028784]\n",
      " [-0.28790332 -0.96139749 -0.75098725  0.14987721]]\n",
      "[2 0 3 1]\n",
      "[ 82.5   20.   113.75  51.25]\n",
      "[0.98935825 0.84147098 0.99060736 0.6569866 ]\n"
     ]
    },
    {
     "data": {
      "text/plain": [
       "True"
      ]
     },
     "execution_count": 42,
     "metadata": {},
     "output_type": "execute_result"
    }
   ],
   "source": [
    "#Another common use of indexing with arrays is the search of the maximum value of time-dependent series\n",
    "time = np.linspace(20,145,5)#time scale\n",
    "data = np.sin(np.arange(20)).reshape(5,4)\n",
    "print(time)\n",
    "print(data)\n",
    "ind = data.argmax(axis=0)\n",
    "print(ind)\n",
    "time_max = time[ind]\n",
    "data_max = data[ind,range(data.shape[1])]\n",
    "print(time_max)\n",
    "print(data_max)\n",
    "np.all(data_max == data.max(axis=0))"
   ]
  },
  {
   "cell_type": "code",
   "execution_count": 44,
   "id": "1786fb03",
   "metadata": {},
   "outputs": [
    {
     "name": "stdout",
     "output_type": "stream",
     "text": [
      "[0 0 2 0 0]\n"
     ]
    }
   ],
   "source": [
    "# use indexing with arrays as a target \n",
    "a = np.arange(5)\n",
    "a[[1,3,4]]=0\n",
    "print(a)"
   ]
  },
  {
   "cell_type": "code",
   "execution_count": 46,
   "id": "8aee305b",
   "metadata": {},
   "outputs": [
    {
     "name": "stdout",
     "output_type": "stream",
     "text": [
      "[2 0 3 0 0]\n"
     ]
    }
   ],
   "source": [
    "a[[0,0,2]]=[1,2,3]\n",
    "print(a)"
   ]
  },
  {
   "cell_type": "code",
   "execution_count": 49,
   "id": "ebf5f26f",
   "metadata": {},
   "outputs": [
    {
     "name": "stdout",
     "output_type": "stream",
     "text": [
      "[5 0 6 0 0]\n"
     ]
    }
   ],
   "source": [
    "#Even though 0 occurs twice in the list of indices, the 0th element is only incremented once\n",
    "#This is because Python requires a += 1 to be equivalent to a = a + 1.\n",
    "a[[0,0,2]]+=1\n",
    "print(a)"
   ]
  },
  {
   "cell_type": "code",
   "execution_count": 51,
   "id": "7d2d057d",
   "metadata": {},
   "outputs": [
    {
     "name": "stdout",
     "output_type": "stream",
     "text": [
      "[[False False False False]\n",
      " [False  True  True  True]\n",
      " [ True  True  True  True]]\n",
      "[ 5  6  7  8  9 10 11]\n"
     ]
    }
   ],
   "source": [
    "a = np.arange(12).reshape(3,4)\n",
    "b= a > 4\n",
    "print(b)# `b` is a boolean with `a`'s shape\n",
    "print(a[b])"
   ]
  },
  {
   "cell_type": "code",
   "execution_count": 85,
   "id": "c2a27aa9",
   "metadata": {},
   "outputs": [
    {
     "data": {
      "text/plain": [
       "<matplotlib.image.AxesImage at 0x161a5c88100>"
      ]
     },
     "execution_count": 85,
     "metadata": {},
     "output_type": "execute_result"
    },
    {
     "data": {
      "image/png": "[encoded data removed]",
      "text/plain": [
       "<Figure size 432x288 with 1 Axes>"
      ]
     },
     "metadata": {
      "needs_background": "light"
     },
     "output_type": "display_data"
    }
   ],
   "source": [
    "import numpy as np\n",
    "import matplotlib.pyplot as plt\n",
    "def mandelbrot(h, w, maxit=10, r=2):\n",
    "    \"\"\"Returns an image of the Mandelbrot fractal of size (h,w).\"\"\"\n",
    "    x = np.linspace(-2.5, 1.5, 4*h+1)\n",
    "    y = np.linspace(-1.5, 1.5, 3*w+1)\n",
    "#     print(x.shape, y.shape)\n",
    "    A, B = np.meshgrid(x, y)\n",
    "#     print(A.shape, B.shape)\n",
    "#     print(A)\n",
    "#     print(B)\n",
    "    C = A + B*1j\n",
    "#     print(C.shape)\n",
    "#     print(C)\n",
    "    z = np.zeros_like(C)\n",
    "#     print(z)\n",
    "#     print(z.shape)\n",
    "    divtime = maxit + np.zeros(z.shape, dtype=int)\n",
    "#     print(divtime)\n",
    "#     print(divtime.shape)\n",
    "    \n",
    "    \n",
    "    for i in range(maxit):\n",
    "        z = z**2 + C\n",
    "        diverge = abs(z) > r\n",
    "#         print(diverge)\n",
    "#         print(diverge.shape)\n",
    "        div_now = diverge & (divtime == maxit)\n",
    "#         print(diverge)\n",
    "#         print(diverge.shape)\n",
    "        divtime[div_now] = i\n",
    "#         print(divtime)\n",
    "#         print(divtime.shape)\n",
    "        z[diverge] = r\n",
    "#         print(z)\n",
    "#         print(z.shape)\n",
    "    return divtime\n",
    "\n",
    "plt.clf\n",
    "plt.imshow(mandelbrot(400,400))"
   ]
  },
  {
   "cell_type": "code",
   "execution_count": 91,
   "id": "fef3a51d",
   "metadata": {},
   "outputs": [
    {
     "name": "stdout",
     "output_type": "stream",
     "text": [
      "[[ 4  5  6  7]\n",
      " [ 8  9 10 11]]\n",
      "[[ 4  5  6  7]\n",
      " [ 8  9 10 11]]\n",
      "[[ 0  2]\n",
      " [ 4  6]\n",
      " [ 8 10]]\n",
      "[ 4 10]\n"
     ]
    }
   ],
   "source": [
    "#for each dimension of the array we give a 1D boolean array selecting the slices we want\n",
    "a = np.arange(12).reshape(3,4)\n",
    "b1 = np.array([False, True, True])\n",
    "b2 = np.array([True, False, True, False])\n",
    "\n",
    "print(a[b1,:])\n",
    "print(a[b1])\n",
    "\n",
    "print(a[:,b2])\n",
    "#print(a[b2])\n",
    "\n",
    "print(a[b1,b2])"
   ]
  },
  {
   "cell_type": "markdown",
   "id": "958bb737",
   "metadata": {},
   "source": []
  },
  {
   "cell_type": "code",
   "execution_count": 98,
   "id": "d07dba5f",
   "metadata": {},
   "outputs": [
    {
     "name": "stdout",
     "output_type": "stream",
     "text": [
      "[[[2]]\n",
      "\n",
      " [[3]]\n",
      "\n",
      " [[4]]\n",
      "\n",
      " [[5]]]\n",
      "[[[8]\n",
      "  [5]\n",
      "  [4]]]\n",
      "[[[5 4 6 8 3]]]\n",
      "(4, 1, 1)\n",
      "(1, 3, 1)\n",
      "(1, 1, 5)\n"
     ]
    }
   ],
   "source": [
    "a = np.array([2,3,4,5])\n",
    "b = np.array([8,5,4])\n",
    "c = np.array([5,4,6,8,3])\n",
    "ax, bx, cx = np.ix_(a, b, c)\n",
    "print(ax)\n",
    "print(bx)\n",
    "print(cx)\n",
    "\n",
    "print(ax.shape)\n",
    "print(bx.shape)\n",
    "print(cx.shape)\n"
   ]
  },
  {
   "cell_type": "code",
   "execution_count": 106,
   "id": "850b5186",
   "metadata": {},
   "outputs": [
    {
     "name": "stdout",
     "output_type": "stream",
     "text": [
      "[[[42 34 50 66 26]\n",
      "  [27 22 32 42 17]\n",
      "  [22 18 26 34 14]]\n",
      "\n",
      " [[43 35 51 67 27]\n",
      "  [28 23 33 43 18]\n",
      "  [23 19 27 35 15]]\n",
      "\n",
      " [[44 36 52 68 28]\n",
      "  [29 24 34 44 19]\n",
      "  [24 20 28 36 16]]\n",
      "\n",
      " [[45 37 53 69 29]\n",
      "  [30 25 35 45 20]\n",
      "  [25 21 29 37 17]]]\n",
      "17\n",
      "17\n"
     ]
    }
   ],
   "source": [
    "result = ax + bx*cx\n",
    "print(result)\n",
    "print(result[3,2,4])\n",
    "print(a[3]+b[2]*c[4])"
   ]
  },
  {
   "cell_type": "code",
   "execution_count": 107,
   "id": "aca75c39",
   "metadata": {},
   "outputs": [
    {
     "data": {
      "text/plain": [
       "array([[[15, 14, 16, 18, 13],\n",
       "        [12, 11, 13, 15, 10],\n",
       "        [11, 10, 12, 14,  9]],\n",
       "\n",
       "       [[16, 15, 17, 19, 14],\n",
       "        [13, 12, 14, 16, 11],\n",
       "        [12, 11, 13, 15, 10]],\n",
       "\n",
       "       [[17, 16, 18, 20, 15],\n",
       "        [14, 13, 15, 17, 12],\n",
       "        [13, 12, 14, 16, 11]],\n",
       "\n",
       "       [[18, 17, 19, 21, 16],\n",
       "        [15, 14, 16, 18, 13],\n",
       "        [14, 13, 15, 17, 12]]])"
      ]
     },
     "execution_count": 107,
     "metadata": {},
     "output_type": "execute_result"
    }
   ],
   "source": [
    "def ufunc_reduce(ufct, *vectors):\n",
    "    vs = np.ix_(*vectors)\n",
    "    r = ufct.identity\n",
    "    for v in vs:\n",
    "        r = ufct(r, v)\n",
    "    return r\n",
    "\n",
    "ufunc_reduce(np.add, a, b, c)"
   ]
  },
  {
   "cell_type": "markdown",
   "id": "18d042b7",
   "metadata": {},
   "source": [
    "\n",
    "\n",
    "\n"
   ]
  },
  {
   "cell_type": "markdown",
   "id": "598469a5",
   "metadata": {},
   "source": [
    "Useful tricks and tips\n",
    "\n",
    "1、\"Automatric\" Reshaping b = a.reshape((2, -1, 3))\n",
    "\n",
    "2 vector stacking vstack([x,y])&xy2 = np.concatenate((x,y),axis=1) limit\n",
    "\n",
    "？3、Histograms"
   ]
  },
  {
   "cell_type": "code",
   "execution_count": 112,
   "id": "8b16e073",
   "metadata": {},
   "outputs": [
    {
     "name": "stdout",
     "output_type": "stream",
     "text": [
      "(2, 5, 3)\n",
      "[[[ 0  1  2]\n",
      "  [ 3  4  5]\n",
      "  [ 6  7  8]\n",
      "  [ 9 10 11]\n",
      "  [12 13 14]]\n",
      "\n",
      " [[15 16 17]\n",
      "  [18 19 20]\n",
      "  [21 22 23]\n",
      "  [24 25 26]\n",
      "  [27 28 29]]]\n"
     ]
    }
   ],
   "source": [
    "#Automatic” Reshaping\n",
    "a = np.arange(30)\n",
    "b = a.reshape((2, -1, 3))\n",
    "print(b.shape)\n",
    "print(b)"
   ]
  },
  {
   "cell_type": "code",
   "execution_count": 114,
   "id": "10bff703",
   "metadata": {},
   "outputs": [
    {
     "name": "stdout",
     "output_type": "stream",
     "text": [
      "[[0 2 4 6 8]\n",
      " [0 1 2 3 4]]\n",
      "[0 2 4 6 8 0 1 2 3 4]\n"
     ]
    }
   ],
   "source": [
    "#vector stacking vstack&xy2 = np.concatenate((x,y),axis=1)\n",
    "x = np.arange(0,10,2)\n",
    "y = np.arange(5)\n",
    "m = np.vstack([x, y])\n",
    "print(m)\n",
    "xy = np.hstack([x,y])\n",
    "print(xy)"
   ]
  },
  {
   "cell_type": "code",
   "execution_count": 120,
   "id": "1b371c0b",
   "metadata": {},
   "outputs": [
    {
     "ename": "AxisError",
     "evalue": "axis 1 is out of bounds for array of dimension 1",
     "output_type": "error",
     "traceback": [
      "\u001b[1;31m---------------------------------------------------------------------------\u001b[0m",
      "\u001b[1;31mAxisError\u001b[0m                                 Traceback (most recent call last)",
      "Input \u001b[1;32mIn [120]\u001b[0m, in \u001b[0;36m<module>\u001b[1;34m\u001b[0m\n\u001b[0;32m      1\u001b[0m xy1 \u001b[38;5;241m=\u001b[39m np\u001b[38;5;241m.\u001b[39mconcatenate((x,y),axis\u001b[38;5;241m=\u001b[39m\u001b[38;5;241m0\u001b[39m)\n\u001b[1;32m----> 2\u001b[0m xy2 \u001b[38;5;241m=\u001b[39m \u001b[43mnp\u001b[49m\u001b[38;5;241;43m.\u001b[39;49m\u001b[43mconcatenate\u001b[49m\u001b[43m(\u001b[49m\u001b[43m(\u001b[49m\u001b[43mx\u001b[49m\u001b[43m,\u001b[49m\u001b[43my\u001b[49m\u001b[43m)\u001b[49m\u001b[43m,\u001b[49m\u001b[43maxis\u001b[49m\u001b[38;5;241;43m=\u001b[39;49m\u001b[38;5;241;43m1\u001b[39;49m\u001b[43m)\u001b[49m\n\u001b[0;32m      3\u001b[0m \u001b[38;5;28mprint\u001b[39m(xy1)\n\u001b[0;32m      4\u001b[0m \u001b[38;5;28mprint\u001b[39m(xy2)\n",
      "File \u001b[1;32m<__array_function__ internals>:180\u001b[0m, in \u001b[0;36mconcatenate\u001b[1;34m(*args, **kwargs)\u001b[0m\n",
      "\u001b[1;31mAxisError\u001b[0m: axis 1 is out of bounds for array of dimension 1"
     ]
    }
   ],
   "source": [
    "xy1 = np.concatenate((x,y),axis=0)\n",
    "xy2 = np.concatenate((x,y),axis=1)\n",
    "print(xy1)\n",
    "print(xy2)"
   ]
  },
  {
   "cell_type": "code",
   "execution_count": 128,
   "id": "f75ca149",
   "metadata": {},
   "outputs": [
    {
     "data": {
      "text/plain": [
       "(array([0.00128706, 0.00257412, 0.00257412, 0.00257412, 0.00772237,\n",
       "        0.00900943, 0.01415767, 0.03861183, 0.04247301, 0.03989889,\n",
       "        0.05663068, 0.08623308, 0.13900258, 0.16088261, 0.24454157,\n",
       "        0.30117225, 0.34750645, 0.41700774, 0.51997261, 0.60234451,\n",
       "        0.68214229, 0.69501289, 0.78768128, 0.73619884, 0.79540365,\n",
       "        0.78896834, 0.72976354, 0.7014482 , 0.69501289, 0.60749275,\n",
       "        0.57660329, 0.4478972 , 0.39126652, 0.28186634, 0.24196745,\n",
       "        0.20592975, 0.13385434, 0.10425193, 0.07851072, 0.04762125,\n",
       "        0.0296024 , 0.03217652, 0.01029649, 0.00900943, 0.0064353 ,\n",
       "        0.00772237, 0.00514824, 0.00128706, 0.00257412, 0.00128706]),\n",
       " array([0.08106893, 0.15876533, 0.23646173, 0.31415813, 0.39185453,\n",
       "        0.46955093, 0.54724733, 0.62494373, 0.70264013, 0.78033653,\n",
       "        0.85803293, 0.93572933, 1.01342573, 1.09112213, 1.16881853,\n",
       "        1.24651493, 1.32421133, 1.40190773, 1.47960413, 1.55730053,\n",
       "        1.63499693, 1.71269333, 1.79038973, 1.86808613, 1.94578253,\n",
       "        2.02347893, 2.10117533, 2.17887173, 2.25656814, 2.33426454,\n",
       "        2.41196094, 2.48965734, 2.56735374, 2.64505014, 2.72274654,\n",
       "        2.80044294, 2.87813934, 2.95583574, 3.03353214, 3.11122854,\n",
       "        3.18892494, 3.26662134, 3.34431774, 3.42201414, 3.49971054,\n",
       "        3.57740694, 3.65510334, 3.73279974, 3.81049614, 3.88819254,\n",
       "        3.96588894]))"
      ]
     },
     "execution_count": 128,
     "metadata": {},
     "output_type": "execute_result"
    },
    {
     "data": {
      "image/png": "[encoded data removed]",
      "text/plain": [
       "<Figure size 432x288 with 1 Axes>"
      ]
     },
     "metadata": {
      "needs_background": "light"
     },
     "output_type": "display_data"
    }
   ],
   "source": [
    "#histgrams\n",
    "\n",
    "import numpy as np\n",
    "rg = np.random.default_rng(1)\n",
    "import matplotlib.pyplot as plt\n",
    "mu, sigma = 2, 0.5\n",
    "v = rg.normal(mu, sigma, 10000)\n",
    "plt.hist(v, bins=50, density=True)\n",
    "(n,bins) = np.histogram(v, bins=50, density=True)\n",
    "plt.plot(.5*(bins[1:]+bins[:-1]), n)"
   ]
  },
  {
   "cell_type": "code",
   "execution_count": null,
   "id": "40a69c4a",
   "metadata": {},
   "outputs": [],
   "source": []
  },
  {
   "cell_type": "code",
   "execution_count": 123,
   "id": "b9de2e55",
   "metadata": {},
   "outputs": [
    {
     "data": {
      "text/plain": [
       "[<matplotlib.lines.Line2D at 0x161a6dfd5d0>]"
      ]
     },
     "execution_count": 123,
     "metadata": {},
     "output_type": "execute_result"
    },
    {
     "data": {
      "image/png": "[encoded data removed]",
      "text/plain": [
       "<Figure size 432x288 with 1 Axes>"
      ]
     },
     "metadata": {
      "needs_background": "light"
     },
     "output_type": "display_data"
    }
   ],
   "source": []
  }
 ],
 "metadata": {
  "kernelspec": {
   "display_name": "Python 3 (ipykernel)",
   "language": "python",
   "name": "python3"
  },
  "language_info": {
   "codemirror_mode": {
    "name": "ipython",
    "version": 3
   },
   "file_extension": ".py",
   "mimetype": "text/x-python",
   "name": "python",
   "nbconvert_exporter": "python",
   "pygments_lexer": "ipython3",
   "version": "3.10.2"
  }
 },
 "nbformat": 4,
 "nbformat_minor": 5
}
